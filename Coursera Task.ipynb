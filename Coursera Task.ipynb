{
  "metadata": {
    "language_info": {
      "codemirror_mode": {
        "name": "python",
        "version": 3
      },
      "file_extension": ".py",
      "mimetype": "text/x-python",
      "name": "python",
      "nbconvert_exporter": "python",
      "pygments_lexer": "ipython3",
      "version": "3.8"
    },
    "kernelspec": {
      "name": "python",
      "display_name": "Python (Pyodide)",
      "language": "python"
    }
  },
  "nbformat_minor": 4,
  "nbformat": 4,
  "cells": [
    {
      "cell_type": "markdown",
      "source": "#Notebook CourseraTask",
      "metadata": {}
    },
    {
      "cell_type": "markdown",
      "source": "## Introduction\nWelcome to the Coursera assignment task",
      "metadata": {}
    },
    {
      "cell_type": "markdown",
      "source": "## Data Science Languages\n\n- Python\n- R\n- Julia\n- SQL\n- MATLAB",
      "metadata": {}
    },
    {
      "cell_type": "markdown",
      "source": "## Data Science Libraries\n\n1. Pandas\n2. NumPy\n3. Matplotlib\n4. Scikit-learn\n5. TensorFlow\n6. Keras",
      "metadata": {}
    },
    {
      "cell_type": "markdown",
      "source": "## Data Science Tools\n\n| Tool              | Description                                             |\n| ----------------- | ------------------------------------------------------- |\n| Python            | General-purpose programming language                     |\n| R                 | Statistical programming language                         |\n| Julia             | High-level, high-performance language for technical computing |\n| SQL               | Language for managing and querying databases             |\n| TensorFlow        | Open-source machine learning framework                   |\n| scikit-learn      | Machine learning library for Python                      |\n",
      "metadata": {}
    },
    {
      "cell_type": "markdown",
      "source": "## Arithmetic Expression Examples\n\nIn this section, we will explore various examples of arithmetic expressions using basic mathematical operations. \nArithmetic expressions involve the use of operators such as \n1. addition (+) \n2. subtraction (-) \n3. multiplication (*) and \n4. division (/) to perform calculations. \nThese examples will help illustrate how arithmetic expressions can be used to solve mathematical problems and perform computations. ",
      "metadata": {}
    },
    {
      "cell_type": "code",
      "source": "# Multiply and Add Numbers\nnum1 = 5\nnum2 = 10\n\nproduct = num1 * num2\nsum_result = num1 + num2\n\nprint(\"Product:\", product)\nprint(\"Sum:\", sum_result)",
      "metadata": {
        "trusted": true
      },
      "execution_count": 1,
      "outputs": [
        {
          "name": "stdout",
          "text": "Product: 50\nSum: 15\n",
          "output_type": "stream"
        }
      ]
    },
    {
      "cell_type": "code",
      "source": "# Convert Minutes to Hours\nminutes = 150\n\nhours = minutes / 60\n\nprint(\"Hours:\", hours)",
      "metadata": {
        "trusted": true
      },
      "execution_count": 2,
      "outputs": [
        {
          "name": "stdout",
          "text": "Hours: 2.5\n",
          "output_type": "stream"
        }
      ]
    },
    {
      "cell_type": "markdown",
      "source": "## Objectives\n\n- Objective 1: [Description of the first objective]\n- Objective 2: [Description of the second objective]\n- Objective 3: [Description of the third objective]\n- Objective 4: [Description of the third objective]\n- Objective 5: [Description of the third objective]",
      "metadata": {}
    },
    {
      "cell_type": "markdown",
      "source": "## Author: [G Himaja]",
      "metadata": {}
    },
    {
      "cell_type": "code",
      "source": "",
      "metadata": {},
      "execution_count": null,
      "outputs": []
    }
  ]
}